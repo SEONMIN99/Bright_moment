{
 "cells": [
  {
   "cell_type": "code",
   "execution_count": 109,
   "metadata": {},
   "outputs": [],
   "source": [
    "os.environ['GOOGLE_APPLICATION_CREDENTIALS'] = 'visionapi-295811-6a8bc765fdb3.json'"
   ]
  },
  {
   "cell_type": "code",
   "execution_count": 110,
   "metadata": {},
   "outputs": [],
   "source": [
    "def detect_faces(path):\n",
    "    \"\"\"Detects faces in an image.\"\"\"\n",
    "    from google.cloud import vision\n",
    "    import io\n",
    "    import cv2 as cv\n",
    "    client = vision.ImageAnnotatorClient()\n",
    "\n",
    "    with io.open(path, 'rb') as image_file:\n",
    "        content = image_file.read()\n",
    "        \n",
    "    image = vision.Image(content=content)\n",
    "    \n",
    "    response = client.face_detection(image=image)\n",
    "    faces = response.face_annotations\n",
    "\n",
    "    # Names of likelihood from google.cloud.vision.enums\n",
    "    likelihood_name = ('UNKNOWN', 'VERY_UNLIKELY', 'UNLIKELY', 'POSSIBLE',\n",
    "                       'LIKELY', 'VERY_LIKELY')\n",
    "    print('Faces:')\n",
    "    \n",
    "    for face in faces:\n",
    "        print('anger: {}'.format(likelihood_name[face.anger_likelihood]))\n",
    "        print('joy: {}'.format(likelihood_name[face.joy_likelihood]))\n",
    "        print('surprise: {}'.format(likelihood_name[face.surprise_likelihood]))\n",
    "        print('sorrow: {}'.format(likelihood_name[face.sorrow_likelihood]))\n",
    "\n",
    "\n",
    "        vertices = (['({},{})'.format(vertex.x, vertex.y)\n",
    "                    for vertex in face.bounding_poly.vertices])\n",
    "\n",
    "        print('face bounds: {}'.format(','.join(vertices)))\n",
    "        print(vertices)\n",
    "        \n",
    "    if response.error.message:\n",
    "        raise Exception(\n",
    "            '{}\\nFor more info on error messages, check: '\n",
    "            'https://cloud.google.com/apis/design/errors'.format(\n",
    "                response.error.message))\n",
    "        \n",
    "#     for item in vertices:\n",
    "#         print(item)\n",
    "    "
   ]
  },
  {
   "cell_type": "code",
   "execution_count": 111,
   "metadata": {},
   "outputs": [
    {
     "name": "stdout",
     "output_type": "stream",
     "text": [
      "Faces:\n",
      "anger: VERY_UNLIKELY\n",
      "joy: LIKELY\n",
      "surprise: VERY_UNLIKELY\n",
      "sorrow: VERY_UNLIKELY\n",
      "face bounds: (128,43),(186,43),(186,110),(128,110)\n",
      "['(128,43)', '(186,43)', '(186,110)', '(128,110)']\n",
      "anger: VERY_UNLIKELY\n",
      "joy: VERY_UNLIKELY\n",
      "surprise: VERY_UNLIKELY\n",
      "sorrow: VERY_UNLIKELY\n",
      "face bounds: (89,79),(128,79),(128,124),(89,124)\n",
      "['(89,79)', '(128,79)', '(128,124)', '(89,124)']\n"
     ]
    }
   ],
   "source": [
    "import io\n",
    "import os\n",
    "import cv2 as cv\n",
    "\n",
    "# Imports the Google Cloud client library\n",
    "from google.cloud import vision\n",
    "\n",
    "# Instantiates a client\n",
    "client = vision.ImageAnnotatorClient()\n",
    "\n",
    "# The name of the image file to annotate\n",
    "file_name = os.path.abspath('baby.jpg')\n",
    "\n",
    "# Loads the image into memory\n",
    "with io.open(file_name, 'rb') as image_file:\n",
    "    content = image_file.read()\n",
    "\n",
    "image = vision.Image(content=content)\n",
    "\n",
    "# Performs label detection on the image file\n",
    "response = client.label_detection(image=image)\n",
    "labels = response.label_annotations\n",
    "\n",
    "# response = client.face_detection(image=image)\n",
    "response = detect_faces(file_name)\n",
    "# faceAnnotations = response.face_annotations\n",
    "\n",
    "# print(len(faceAnnotations))\n",
    "\n",
    "# print('Labels:')\n",
    "# for label in labels:\n",
    "#     print(label.description)\n",
    "\n",
    "\n",
    "    "
   ]
  },
  {
   "cell_type": "code",
   "execution_count": null,
   "metadata": {},
   "outputs": [],
   "source": []
  },
  {
   "cell_type": "code",
   "execution_count": null,
   "metadata": {},
   "outputs": [],
   "source": []
  }
 ],
 "metadata": {
  "kernelspec": {
   "display_name": "Python 3",
   "language": "python",
   "name": "python3"
  },
  "language_info": {
   "codemirror_mode": {
    "name": "ipython",
    "version": 3
   },
   "file_extension": ".py",
   "mimetype": "text/x-python",
   "name": "python",
   "nbconvert_exporter": "python",
   "pygments_lexer": "ipython3",
   "version": "3.8.3"
  }
 },
 "nbformat": 4,
 "nbformat_minor": 4
}
