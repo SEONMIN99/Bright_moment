{
 "cells": [
  {
   "cell_type": "code",
   "execution_count": 2,
   "metadata": {},
   "outputs": [],
   "source": [
    "# import numpy as np\n",
    "import cv2 as cv\n",
    "\n",
    "\n",
    "# 얼굴과 눈을 검출하기 위해 미리 학습시켜 놓은 XML 포맷으로 저장된 분류기를 로드합니다. \n",
    "face_cascade = cv.CascadeClassifier('haarcascade_frontalface_default.xml')\n",
    "# eye_cascade = cv.CascadeClassifier('haarcascade_eye.xml')\n",
    "\n",
    "\n",
    "\n",
    "# 얼굴과 눈을 검출할 그레이스케일 이미지를 준비해놓습니다. \n",
    "img = cv.imread('baby.jpg')\n",
    "gray = cv.cvtColor(img, cv.COLOR_BGR2GRAY)\n",
    "\n",
    "\n",
    "# 이미지에서 얼굴을 검출합니다. \n",
    "faces = face_cascade.detectMultiScale(gray, 1.3, 5)\n",
    "\n",
    "\n",
    "# 얼굴이 검출되었다면 얼굴 위치에 대한 좌표 정보를 리턴받습니다. \n",
    "for (x,y,w,h) in faces:\n",
    "\n",
    "    # 원본 이미지에 얼굴의 위치를 표시합니다. \n",
    "    cv.rectangle(img,(x,y),(x+w,y+h),(255,0,0),2)\n",
    "\n",
    "#     # 눈 검출은 얼굴이 검출된 영역 내부에서만 진행하기 위해 ROI를 생성합니다. \n",
    "#     roi_gray = gray[y:y+h, x:x+w]\n",
    "#     roi_color = img[y:y+h, x:x+w]\n",
    "\n",
    "#     # 눈을 검출합니다. \n",
    "#     eyes = eye_cascade.detectMultiScale(roi_gray)\n",
    "\n",
    "#     # 눈이 검출되었다면 눈 위치에 대한 좌표 정보를 리턴받습니다. \n",
    "#     for (ex,ey,ew,eh) in eyes:\n",
    "#         # 원본 이미지에 얼굴의 위치를 표시합니다. ROI에 표시하면 원본 이미지에도 표시됩니다. \n",
    "#         cv.rectangle(roi_color,(ex,ey),(ex+ew,ey+eh),(0,255,0),2)\n",
    "\n",
    "\n",
    "# 얼굴과 눈 검출 결과를 화면에 보여줍니다.\n",
    "cv.imshow('img',img)\n",
    "cv.waitKey(0)\n",
    "\n",
    "cv.destroyAllWindows()"
   ]
  },
  {
   "cell_type": "code",
   "execution_count": null,
   "metadata": {},
   "outputs": [],
   "source": []
  }
 ],
 "metadata": {
  "kernelspec": {
   "display_name": "Python 3",
   "language": "python",
   "name": "python3"
  },
  "language_info": {
   "codemirror_mode": {
    "name": "ipython",
    "version": 3
   },
   "file_extension": ".py",
   "mimetype": "text/x-python",
   "name": "python",
   "nbconvert_exporter": "python",
   "pygments_lexer": "ipython3",
   "version": "3.8.3"
  }
 },
 "nbformat": 4,
 "nbformat_minor": 4
}
