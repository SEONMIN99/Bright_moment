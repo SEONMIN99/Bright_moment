{
 "cells": [
  {
   "cell_type": "code",
   "execution_count": 19,
   "metadata": {},
   "outputs": [],
   "source": [
    "import cv2"
   ]
  },
  {
   "cell_type": "code",
   "execution_count": 21,
   "metadata": {},
   "outputs": [
    {
     "ename": "error",
     "evalue": "OpenCV(4.4.0) C:\\Users\\appveyor\\AppData\\Local\\Temp\\1\\pip-req-build-q0nmoxxv\\opencv\\modules\\imgproc\\src\\color.cpp:182: error: (-215:Assertion failed) !_src.empty() in function 'cv::cvtColor'\n",
     "output_type": "error",
     "traceback": [
      "\u001b[1;31m---------------------------------------------------------------------------\u001b[0m",
      "\u001b[1;31merror\u001b[0m                                     Traceback (most recent call last)",
      "\u001b[1;32m<ipython-input-21-71156b0f7ae8>\u001b[0m in \u001b[0;36m<module>\u001b[1;34m\u001b[0m\n\u001b[0;32m      1\u001b[0m \u001b[0mim\u001b[0m \u001b[1;33m=\u001b[0m \u001b[0mcv2\u001b[0m\u001b[1;33m.\u001b[0m\u001b[0mimread\u001b[0m\u001b[1;33m(\u001b[0m\u001b[1;34m\"C:/Users/USER/Desktop/2020-2/데이터사이언스응용/faces.jpg\"\u001b[0m\u001b[1;33m)\u001b[0m\u001b[1;33m\u001b[0m\u001b[1;33m\u001b[0m\u001b[0m\n\u001b[1;32m----> 2\u001b[1;33m \u001b[0mgray\u001b[0m \u001b[1;33m=\u001b[0m \u001b[0mcv2\u001b[0m\u001b[1;33m.\u001b[0m\u001b[0mcvtColor\u001b[0m\u001b[1;33m(\u001b[0m\u001b[0mim\u001b[0m\u001b[1;33m,\u001b[0m \u001b[0mcv2\u001b[0m\u001b[1;33m.\u001b[0m\u001b[0mCOLOR_RGB2GRAY\u001b[0m\u001b[1;33m)\u001b[0m\u001b[1;33m\u001b[0m\u001b[1;33m\u001b[0m\u001b[0m\n\u001b[0m\u001b[0;32m      3\u001b[0m \u001b[0mtitle\u001b[0m\u001b[1;33m(\u001b[0m\u001b[1;34m\"Original Image\"\u001b[0m\u001b[1;33m)\u001b[0m\u001b[1;33m\u001b[0m\u001b[1;33m\u001b[0m\u001b[0m\n\u001b[0;32m      4\u001b[0m \u001b[0maxis\u001b[0m\u001b[1;33m(\u001b[0m\u001b[1;34m\"off\"\u001b[0m\u001b[1;33m)\u001b[0m\u001b[1;33m\u001b[0m\u001b[1;33m\u001b[0m\u001b[0m\n\u001b[0;32m      5\u001b[0m \u001b[0mimshow\u001b[0m\u001b[1;33m(\u001b[0m\u001b[0mim\u001b[0m\u001b[1;33m)\u001b[0m\u001b[1;33m\u001b[0m\u001b[1;33m\u001b[0m\u001b[0m\n",
      "\u001b[1;31merror\u001b[0m: OpenCV(4.4.0) C:\\Users\\appveyor\\AppData\\Local\\Temp\\1\\pip-req-build-q0nmoxxv\\opencv\\modules\\imgproc\\src\\color.cpp:182: error: (-215:Assertion failed) !_src.empty() in function 'cv::cvtColor'\n"
     ]
    }
   ],
   "source": [
    "\n",
    "im = imread(\"C:/Users/USER/Desktop/2020-2/데이터사이언스응용/faces.jpg\")\n",
    "gray = cv2.cvtColor(im, cv2.COLOR_RGB2GRAY)\n",
    "title(\"Original Image\")\n",
    "axis(\"off\")\n",
    "imshow(im)\n",
    "show()\n",
    "\n",
    "title(\"Grayscale Image\")\n",
    "axis(\"off\")\n",
    "imshow(gray, cmap= pylab.gray())\n",
    "show()"
   ]
  },
  {
   "cell_type": "code",
   "execution_count": 35,
   "metadata": {},
   "outputs": [],
   "source": [
    "import cv2\n",
    "import os\n",
    "\n",
    "# Get the path to the current file\n",
    "cwd = os.path.dirname(os.path.abspath(\"__file__\"))\n",
    "\n",
    "# Change the working directory\n",
    "os.chdir(cwd)\n",
    "\n",
    "\n",
    "# Load an image\n",
    "img = cv2.imread('faces.jpg', cv2.IMREAD_GRAYSCALE)\n",
    "\n",
    "# Display the image in a window\n",
    "cv2.imshow('face image', img)\n",
    "\n",
    "# Wait for a key to be pressed\n",
    "cv2.waitKey(0)\n",
    "\n",
    "# Destroy all windows\n",
    "cv2.destroyAllWindows()"
   ]
  },
  {
   "cell_type": "code",
   "execution_count": 36,
   "metadata": {},
   "outputs": [
    {
     "ename": "SyntaxError",
     "evalue": "invalid character in identifier (<ipython-input-36-d19480654b16>, line 5)",
     "output_type": "error",
     "traceback": [
      "\u001b[1;36m  File \u001b[1;32m\"<ipython-input-36-d19480654b16>\"\u001b[1;36m, line \u001b[1;32m5\u001b[0m\n\u001b[1;33m    face_classifier = cv2.CascadeClassifier(‘Haarcascades/haarcascade_frontalface_default.xml’)\u001b[0m\n\u001b[1;37m                                                        ^\u001b[0m\n\u001b[1;31mSyntaxError\u001b[0m\u001b[1;31m:\u001b[0m invalid character in identifier\n"
     ]
    }
   ],
   "source": [
    "#import libraries\n",
    "import cv2\n",
    "import numpy as np\n",
    "#import classifier for face and eye detection\n",
    "face_classifier = cv2.CascadeClassifier(‘Haarcascades/haarcascade_frontalface_default.xml’)\n",
    "# Import Classifier for Face and Eye Detection\n",
    "face_classifier = cv2.CascadeClassifier(‘Haarcascades/haarcascade_frontalface_default.xml’)\n",
    "eye_classifier = cv2.CascadeClassifier (‘Haarcascades/haarcascade_eye.xml’)\n",
    "def face_detector (img, size=0.5):\n",
    "# Convert Image to Grayscale\n",
    "gray = cv2.cvtColor (img, cv2.COLOR_BGR2GRAY)\n",
    "faces = face_classifier.detectMultiScale (gray, 1.3, 5)\n",
    "If faces is ():\n",
    "return img\n",
    "# Given coordinates to detect face and eyes location from ROI\n",
    "for (x, y, w, h) in faces\n",
    "x = x — 100\n",
    "w = w + 100\n",
    "y = y — 100\n",
    "h = h + 100\n",
    "cv2.rectangle (img, (x, y), (x+w, y+h), (255, 0, 0), 2)\n",
    "roi_gray = gray[y: y+h, x: x+w]\n",
    "roi_color = img[y: y+h, x: x+w]\n",
    "eyes = eye_classifier.detectMultiScale (roi_gray)\n",
    "for (ex, ey, ew, eh) in eyes:\n",
    "cv2.rectangle(roi_color,(ex,ey),(ex+ew,ey+eh),(0,0,255),2)\n",
    "roi_color = cv2.flip (roi_color, 1)\n",
    "return roi_color\n",
    "# Webcam setup for Face Detection\n",
    "cap = cv2.VideoCapture (0)\n",
    "while True:\n",
    "ret, frame = cap.read ()\n",
    "cv2.imshow (‘Our Face Extractor’, face_detector (frame))\n",
    "if cv2.waitKey (1) == 13: #13 is the Enter Key\n",
    "break\n",
    "# When everything done, release the capture\n",
    "cap.release ()\n",
    "cv2.destroyAllWindows ()"
   ]
  },
  {
   "cell_type": "code",
   "execution_count": null,
   "metadata": {},
   "outputs": [],
   "source": []
  }
 ],
 "metadata": {
  "kernelspec": {
   "display_name": "Python 3",
   "language": "python",
   "name": "python3"
  },
  "language_info": {
   "codemirror_mode": {
    "name": "ipython",
    "version": 3
   },
   "file_extension": ".py",
   "mimetype": "text/x-python",
   "name": "python",
   "nbconvert_exporter": "python",
   "pygments_lexer": "ipython3",
   "version": "3.7.6"
  }
 },
 "nbformat": 4,
 "nbformat_minor": 4
}
